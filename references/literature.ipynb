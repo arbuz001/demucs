{
 "cells": [
  {
   "cell_type": "markdown",
   "metadata": {},
   "source": [
    "## Theory\n",
    "\n",
    "ASR: automatic speech recognition\n",
    "\n",
    "CTC: connectionist temporal classification \n",
    "\n",
    "https://paperswithcode.com/task/speech-recognition\n",
    "\n",
    "https://en.wikipedia.org/wiki/List_of_speech_recognition_software\n",
    "\n",
    "https://en.wikipedia.org/wiki/Speech_recognition#End-to-end_automatic_speech_recognition\n",
    "\n",
    " Chan, William; Jaitly, Navdeep; Le, Quoc; Vinyals, Oriol (2016). \"Listen, Attend and Spell: A Neural Network for Large Vocabulary Conversational Speech Recognition\". ICASSP.\n",
    " \n",
    "## End-to-end Attention-based encoder-decoder architectures such as Listen, Attend,and Spell (LAS)\n",
    "[Bahdanau_2016, End-to-End Attention-based Large Vocabulary Speech Recognition\"](Bahdanau_2016.pdf) \n",
    " \n",
    "[Chiu_2017, STATE-OF-THE-ART SPEECH RECOGNITION WITH SEQUENCE-TO-SEQUENCE MODELS WITH SEQUENCE-TO-SEQUENCE MODELS](Chiu_2017.pdf)\n",
    "\n",
    "\n"
   ]
  },
  {
   "cell_type": "markdown",
   "metadata": {},
   "source": [
    "### Facebook wav2let (C++ based, ArrayFire)\n",
    "\n",
    "\n",
    "Facebook: https://github.com/facebookresearch/wav2letter\n",
    "\n",
    "[Pratap_2018, WAV2LETTER++: THE FASTEST OPEN-SOURCE SPEECH RECOGNITION SYSTEM](Pratap_2018.pdf)\n",
    "\n",
    "https://github.com/facebookresearch/wav2letter\n",
    "\n",
    "[Hannun 2019, Sequence-to-Sequence Speech Recognition with Time-Depth Separable Convolutions](Hannun_2019.pdf)\n",
    "\n",
    "### Kaldi\n",
    "\n",
    "[The Kaldi Speech Recognition Toolkit Daniel Povey](Povey_2011.pdf)\n",
    "\n",
    "http://kaldi-asr.org/index.html\n",
    "\n",
    "https://github.com/kaldi-asr/kaldi\n",
    "\n",
    "### Pytorch Kaldi speech recognition toolkit\n",
    "\n",
    "https://paperswithcode.com/paper/the-pytorch-kaldi-speech-recognition-toolkit\n",
    "\n",
    "[Ravanelli 2018](Ravanelli_2018.pdf)\n",
    "\n",
    "\"The Kaldi Speech Recognition Toolkit the oldest of the aforementioned and aconsists of a set of stand-alone command-line tools. Kaldi\n",
    "supports HMM/GMM and hybrid HMM/NN-based acoustic modeling, and includes phone-based recipes\"\n",
    "\n",
    "### ESPNet  (Chainer and Pytorch)\n",
    "\n",
    "[Watanabe 2018, ESPnet: End-to-End Speech Processing Toolkit](Watanabe_2018.pdf)\n",
    "\n",
    "https://github.com/espnet/espnet\n",
    "\n",
    "ESPNet uses Chainer or PyTorch as\n",
    "a back-end to train acoustic models. It is mostly written in\n",
    "Python, however, following the style of Kaldi, high-level\n",
    "work-flows are expressed in bash scripts. While encouraging\n",
    "the decoupling of system components, this approach lacks\n",
    "the benefit of statically-typed object-oriented programming\n",
    "languages in expressing type-safe, readable and intuitive interfaces. ESPNet features both CTC-based and attention based encoder-decoder implementations as well as a hybrid model combining both criteria.\n",
    "\n",
    "### OpenSeq2Seq (Tensorflow)\n",
    "\n",
    "[Kuchaiev 2018, Mixed-Precision Training for NLP and Speech Recognition with OpenSeq2Seq](Kuchaiev_2018.pdf)\n",
    "\n",
    "### EESEN (Kaldi based)\n",
    "\n",
    "[Miao 2015, EESEN: END-TO-END SPEECH RECOGNITION USING DEEP RNN MODELS AND WFST-BASED DECODING](Miao_2015.pdf)\n",
    "\n",
    "https://github.com/yajiemiao/eesen"
   ]
  },
  {
   "cell_type": "markdown",
   "metadata": {},
   "source": [
    "# CTC connectionist temporal classification \n",
    "CTC objective function to infer the alignments between speech and label sequences [CTC](Miao_2015.pdf)"
   ]
  },
  {
   "cell_type": "code",
   "execution_count": null,
   "metadata": {},
   "outputs": [],
   "source": []
  },
  {
   "cell_type": "code",
   "execution_count": null,
   "metadata": {},
   "outputs": [],
   "source": []
  },
  {
   "cell_type": "code",
   "execution_count": null,
   "metadata": {},
   "outputs": [],
   "source": []
  }
 ],
 "metadata": {
  "kernelspec": {
   "display_name": "Python 3",
   "language": "python",
   "name": "python3"
  },
  "language_info": {
   "codemirror_mode": {
    "name": "ipython",
    "version": 3
   },
   "file_extension": ".py",
   "mimetype": "text/x-python",
   "name": "python",
   "nbconvert_exporter": "python",
   "pygments_lexer": "ipython3",
   "version": "3.7.1"
  }
 },
 "nbformat": 4,
 "nbformat_minor": 2
}
