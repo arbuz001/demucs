{
 "cells": [
  {
   "cell_type": "markdown",
   "metadata": {},
   "source": [
    "### How to install kaldi-pytorch\n",
    "\n",
    "- use cloned repo from /externals/pytorch-kaldi or re-clone (https://github.com/mravanelli/pytorch-kaldi)\n",
    "- follow instructions in the /externals/pytorch-kaldi/README.md file, sections [*Prerequisites*] and [*How to install*]\n",
    "\n",
    "#### Prerequisites\n",
    "- make sure 2 main prerequisites installed: pytorch + kaldi\n",
    "\n",
    "##### pytorch\n",
    "- we already have it\n",
    "\n",
    "##### kaldi\n",
    "- key steps from tutorial to install kaldi: official tutorial: http://kaldi-asr.org/doc/tutorial_setup.html + secondary un-official tutorial: http://jrmeyer.github.io/asr/2016/01/26/Installing-Kaldi.html)\n",
    "- extract of key steps: use cloned repo from /externals/kaldi or re-clone (https://github.com/kaldi-asr/kaldi.git)\n",
    "- run the following commands (in the \"best-case\" scenario theY run without errors, It takes 65+ min to execute these on single core CPU): \n",
    "\n",
    "---\n",
    "```\n",
    "cd kaldi/tools/; make;\n",
    "```\n",
    "---\n",
    "```\n",
    "kaldi/src;./configure;\n",
    "```\n",
    "---\n",
    "```\n",
    "make depend -j 4\n",
    "```\n",
    "---\n",
    "- once kaldi installed, verify that it works, by running example: \n",
    "---\n",
    "```\n",
    "cd /egs/yesno/\n",
    "```\n",
    "---\n",
    "(location of dataset with music used in kaldi examples: https://catalog.ldc.upenn.edu/LDC93S1)\n",
    "- The most important code is in the directory include/fst/. If you ever want to understand Kaldi deeply you will need to understand openfst. For this, the best starting point is http://www.openfst.org/\n",
    "\n",
    "- kaldi is built on top of key concept 'finite-state transducers'\n",
    "\n",
    "#### Install pytorch-kaldi\n",
    "- now proceed to installation of pytorch-kaldi: \n",
    "---\n",
    "```\n",
    "sudo pip install -r requirements.txt\n",
    "```\n",
    "---\n",
    "- finalize installation of pytorch-kaldi"
   ]
  }
 ],
 "metadata": {
  "kernelspec": {
   "display_name": "Python 3",
   "language": "python",
   "name": "python3"
  },
  "language_info": {
   "codemirror_mode": {
    "name": "ipython",
    "version": 3
   },
   "file_extension": ".py",
   "mimetype": "text/x-python",
   "name": "python",
   "nbconvert_exporter": "python",
   "pygments_lexer": "ipython3",
   "version": "3.6.7"
  }
 },
 "nbformat": 4,
 "nbformat_minor": 2
}
